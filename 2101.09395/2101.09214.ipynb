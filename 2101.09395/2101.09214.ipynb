{
 "cells": [
  {
   "cell_type": "code",
   "execution_count": 2,
   "id": "personal-sculpture",
   "metadata": {},
   "outputs": [],
   "source": [
    "import torch\n",
    "import yfinance as yf\n",
    "import datetime\n",
    "import numpy as np\n",
    "import pandas as pd\n",
    "from tqdm import tqdm\n",
    "import matplotlib.pyplot as plt"
   ]
  },
  {
   "cell_type": "code",
   "execution_count": 3,
   "id": "impressive-salmon",
   "metadata": {},
   "outputs": [],
   "source": [
    "sp500 = ''.join(open('~/.../S&P500.txt').readlines()).strip().split('\\n')\n",
    "sp500.sort()"
   ]
  },
  {
   "cell_type": "code",
   "execution_count": null,
   "id": "indian-norman",
   "metadata": {
    "tags": []
   },
   "outputs": [
    {
     "name": "stderr",
     "output_type": "stream",
     "text": [
      "  4%|▍         | 21/505 [00:08<02:55,  2.76it/s]"
     ]
    }
   ],
   "source": [
    "hist_dict = {}\n",
    "pbar = tqdm(total=len(sp500))\n",
    "for ticker in sp500:\n",
    "    try:\n",
    "        hist = yf.Ticker(ticker).history(period=\"max\")\n",
    "        hist_dict[ticker] = hist\n",
    "    except:\n",
    "        continue\n",
    "    pbar.update(1)"
   ]
  },
  {
   "cell_type": "markdown",
   "id": "worst-fairy",
   "metadata": {},
   "source": [
    "## Historical closing prices from 2012 to present"
   ]
  },
  {
   "cell_type": "code",
   "execution_count": null,
   "id": "opening-motion",
   "metadata": {},
   "outputs": [],
   "source": [
    "hist = pd.concat(hist_dict, axis=1)\n",
    "hist = hist.iloc[hist.index.get_loc(datetime.datetime(2012,1,1),method='nearest'):]\n",
    "hist = hist[[col for col in list(hist.columns) if col[1] == 'Close']]\n",
    "del hist_dict\n",
    "hist.to_pickle('~/.../SP500_2012_2021.pkl')\n",
    "hist"
   ]
  },
  {
   "cell_type": "code",
   "execution_count": 4,
   "id": "fluid-intention",
   "metadata": {},
   "outputs": [
    {
     "data": {
      "text/html": [
       "<div>\n",
       "<style scoped>\n",
       "    .dataframe tbody tr th:only-of-type {\n",
       "        vertical-align: middle;\n",
       "    }\n",
       "\n",
       "    .dataframe tbody tr th {\n",
       "        vertical-align: top;\n",
       "    }\n",
       "\n",
       "    .dataframe thead tr th {\n",
       "        text-align: left;\n",
       "    }\n",
       "\n",
       "    .dataframe thead tr:last-of-type th {\n",
       "        text-align: right;\n",
       "    }\n",
       "</style>\n",
       "<table border=\"1\" class=\"dataframe\">\n",
       "  <thead>\n",
       "    <tr>\n",
       "      <th></th>\n",
       "      <th>A</th>\n",
       "      <th>AAL</th>\n",
       "      <th>AAP</th>\n",
       "      <th>AAPL</th>\n",
       "      <th>ABBV</th>\n",
       "      <th>ABC</th>\n",
       "      <th>ABMD</th>\n",
       "      <th>ABT</th>\n",
       "      <th>ACN</th>\n",
       "      <th>ADBE</th>\n",
       "      <th>...</th>\n",
       "      <th>XEL</th>\n",
       "      <th>XLNX</th>\n",
       "      <th>XOM</th>\n",
       "      <th>XRAY</th>\n",
       "      <th>XYL</th>\n",
       "      <th>YUM</th>\n",
       "      <th>ZBH</th>\n",
       "      <th>ZBRA</th>\n",
       "      <th>ZION</th>\n",
       "      <th>ZTS</th>\n",
       "    </tr>\n",
       "    <tr>\n",
       "      <th></th>\n",
       "      <th>Close</th>\n",
       "      <th>Close</th>\n",
       "      <th>Close</th>\n",
       "      <th>Close</th>\n",
       "      <th>Close</th>\n",
       "      <th>Close</th>\n",
       "      <th>Close</th>\n",
       "      <th>Close</th>\n",
       "      <th>Close</th>\n",
       "      <th>Close</th>\n",
       "      <th>...</th>\n",
       "      <th>Close</th>\n",
       "      <th>Close</th>\n",
       "      <th>Close</th>\n",
       "      <th>Close</th>\n",
       "      <th>Close</th>\n",
       "      <th>Close</th>\n",
       "      <th>Close</th>\n",
       "      <th>Close</th>\n",
       "      <th>Close</th>\n",
       "      <th>Close</th>\n",
       "    </tr>\n",
       "    <tr>\n",
       "      <th>Date</th>\n",
       "      <th></th>\n",
       "      <th></th>\n",
       "      <th></th>\n",
       "      <th></th>\n",
       "      <th></th>\n",
       "      <th></th>\n",
       "      <th></th>\n",
       "      <th></th>\n",
       "      <th></th>\n",
       "      <th></th>\n",
       "      <th></th>\n",
       "      <th></th>\n",
       "      <th></th>\n",
       "      <th></th>\n",
       "      <th></th>\n",
       "      <th></th>\n",
       "      <th></th>\n",
       "      <th></th>\n",
       "      <th></th>\n",
       "      <th></th>\n",
       "      <th></th>\n",
       "    </tr>\n",
       "  </thead>\n",
       "  <tbody>\n",
       "    <tr>\n",
       "      <th>2012-01-03</th>\n",
       "      <td>23.848188</td>\n",
       "      <td>4.826837</td>\n",
       "      <td>66.431709</td>\n",
       "      <td>12.591938</td>\n",
       "      <td>NaN</td>\n",
       "      <td>32.449615</td>\n",
       "      <td>18.250000</td>\n",
       "      <td>22.172400</td>\n",
       "      <td>43.720493</td>\n",
       "      <td>28.570000</td>\n",
       "      <td>...</td>\n",
       "      <td>19.759584</td>\n",
       "      <td>26.523651</td>\n",
       "      <td>57.094891</td>\n",
       "      <td>33.212666</td>\n",
       "      <td>21.926779</td>\n",
       "      <td>34.782356</td>\n",
       "      <td>49.651501</td>\n",
       "      <td>35.720001</td>\n",
       "      <td>14.441826</td>\n",
       "      <td>NaN</td>\n",
       "    </tr>\n",
       "    <tr>\n",
       "      <th>2012-01-04</th>\n",
       "      <td>23.658602</td>\n",
       "      <td>4.741989</td>\n",
       "      <td>67.989174</td>\n",
       "      <td>12.659607</td>\n",
       "      <td>NaN</td>\n",
       "      <td>32.560436</td>\n",
       "      <td>18.110001</td>\n",
       "      <td>22.086409</td>\n",
       "      <td>43.703983</td>\n",
       "      <td>28.280001</td>\n",
       "      <td>...</td>\n",
       "      <td>19.629501</td>\n",
       "      <td>26.245657</td>\n",
       "      <td>57.108166</td>\n",
       "      <td>33.203274</td>\n",
       "      <td>22.650694</td>\n",
       "      <td>35.019901</td>\n",
       "      <td>48.979530</td>\n",
       "      <td>35.450001</td>\n",
       "      <td>14.760457</td>\n",
       "      <td>NaN</td>\n",
       "    </tr>\n",
       "    <tr>\n",
       "      <th>2012-01-05</th>\n",
       "      <td>24.188129</td>\n",
       "      <td>5.156796</td>\n",
       "      <td>68.421799</td>\n",
       "      <td>12.800154</td>\n",
       "      <td>NaN</td>\n",
       "      <td>32.807610</td>\n",
       "      <td>18.270000</td>\n",
       "      <td>22.035582</td>\n",
       "      <td>42.870026</td>\n",
       "      <td>28.480000</td>\n",
       "      <td>...</td>\n",
       "      <td>19.716227</td>\n",
       "      <td>26.474594</td>\n",
       "      <td>56.935555</td>\n",
       "      <td>33.231441</td>\n",
       "      <td>22.327982</td>\n",
       "      <td>35.287136</td>\n",
       "      <td>49.559452</td>\n",
       "      <td>35.400002</td>\n",
       "      <td>15.173820</td>\n",
       "      <td>NaN</td>\n",
       "    </tr>\n",
       "    <tr>\n",
       "      <th>2012-01-06</th>\n",
       "      <td>24.449619</td>\n",
       "      <td>5.279352</td>\n",
       "      <td>68.739067</td>\n",
       "      <td>12.933964</td>\n",
       "      <td>NaN</td>\n",
       "      <td>32.892853</td>\n",
       "      <td>18.139999</td>\n",
       "      <td>21.836220</td>\n",
       "      <td>42.795719</td>\n",
       "      <td>28.719999</td>\n",
       "      <td>...</td>\n",
       "      <td>19.658407</td>\n",
       "      <td>26.302900</td>\n",
       "      <td>56.510662</td>\n",
       "      <td>33.034290</td>\n",
       "      <td>21.952953</td>\n",
       "      <td>35.542492</td>\n",
       "      <td>49.688309</td>\n",
       "      <td>35.110001</td>\n",
       "      <td>15.191044</td>\n",
       "      <td>NaN</td>\n",
       "    </tr>\n",
       "    <tr>\n",
       "      <th>2012-01-09</th>\n",
       "      <td>25.090279</td>\n",
       "      <td>5.392481</td>\n",
       "      <td>68.719833</td>\n",
       "      <td>12.913451</td>\n",
       "      <td>NaN</td>\n",
       "      <td>32.875797</td>\n",
       "      <td>18.209999</td>\n",
       "      <td>21.832314</td>\n",
       "      <td>42.721413</td>\n",
       "      <td>28.530001</td>\n",
       "      <td>...</td>\n",
       "      <td>19.672861</td>\n",
       "      <td>26.875235</td>\n",
       "      <td>56.762959</td>\n",
       "      <td>32.874714</td>\n",
       "      <td>22.040163</td>\n",
       "      <td>35.405914</td>\n",
       "      <td>50.056503</td>\n",
       "      <td>34.950001</td>\n",
       "      <td>15.397721</td>\n",
       "      <td>NaN</td>\n",
       "    </tr>\n",
       "    <tr>\n",
       "      <th>...</th>\n",
       "      <td>...</td>\n",
       "      <td>...</td>\n",
       "      <td>...</td>\n",
       "      <td>...</td>\n",
       "      <td>...</td>\n",
       "      <td>...</td>\n",
       "      <td>...</td>\n",
       "      <td>...</td>\n",
       "      <td>...</td>\n",
       "      <td>...</td>\n",
       "      <td>...</td>\n",
       "      <td>...</td>\n",
       "      <td>...</td>\n",
       "      <td>...</td>\n",
       "      <td>...</td>\n",
       "      <td>...</td>\n",
       "      <td>...</td>\n",
       "      <td>...</td>\n",
       "      <td>...</td>\n",
       "      <td>...</td>\n",
       "      <td>...</td>\n",
       "    </tr>\n",
       "    <tr>\n",
       "      <th>2021-12-14</th>\n",
       "      <td>151.880005</td>\n",
       "      <td>16.910000</td>\n",
       "      <td>234.405685</td>\n",
       "      <td>174.330002</td>\n",
       "      <td>127.290001</td>\n",
       "      <td>123.300003</td>\n",
       "      <td>311.269989</td>\n",
       "      <td>132.940002</td>\n",
       "      <td>369.730011</td>\n",
       "      <td>614.859985</td>\n",
       "      <td>...</td>\n",
       "      <td>67.389999</td>\n",
       "      <td>209.809998</td>\n",
       "      <td>61.540001</td>\n",
       "      <td>53.139999</td>\n",
       "      <td>118.680000</td>\n",
       "      <td>131.990005</td>\n",
       "      <td>123.279999</td>\n",
       "      <td>585.859985</td>\n",
       "      <td>62.270000</td>\n",
       "      <td>228.070007</td>\n",
       "    </tr>\n",
       "    <tr>\n",
       "      <th>2021-12-15</th>\n",
       "      <td>154.309998</td>\n",
       "      <td>16.990000</td>\n",
       "      <td>238.139999</td>\n",
       "      <td>179.300003</td>\n",
       "      <td>130.229996</td>\n",
       "      <td>123.769997</td>\n",
       "      <td>315.459991</td>\n",
       "      <td>135.559998</td>\n",
       "      <td>375.299988</td>\n",
       "      <td>630.330017</td>\n",
       "      <td>...</td>\n",
       "      <td>68.820000</td>\n",
       "      <td>217.729996</td>\n",
       "      <td>61.270000</td>\n",
       "      <td>54.009998</td>\n",
       "      <td>119.750000</td>\n",
       "      <td>132.419998</td>\n",
       "      <td>120.680000</td>\n",
       "      <td>598.190002</td>\n",
       "      <td>62.759998</td>\n",
       "      <td>232.080002</td>\n",
       "    </tr>\n",
       "    <tr>\n",
       "      <th>2021-12-16</th>\n",
       "      <td>150.800003</td>\n",
       "      <td>16.520000</td>\n",
       "      <td>239.160004</td>\n",
       "      <td>172.259995</td>\n",
       "      <td>131.779999</td>\n",
       "      <td>123.980003</td>\n",
       "      <td>310.000000</td>\n",
       "      <td>136.089996</td>\n",
       "      <td>400.600006</td>\n",
       "      <td>566.090027</td>\n",
       "      <td>...</td>\n",
       "      <td>68.949997</td>\n",
       "      <td>199.779999</td>\n",
       "      <td>61.369999</td>\n",
       "      <td>54.160000</td>\n",
       "      <td>118.639999</td>\n",
       "      <td>133.589996</td>\n",
       "      <td>120.470001</td>\n",
       "      <td>592.039978</td>\n",
       "      <td>63.470001</td>\n",
       "      <td>232.809998</td>\n",
       "    </tr>\n",
       "    <tr>\n",
       "      <th>2021-12-17</th>\n",
       "      <td>151.419998</td>\n",
       "      <td>16.950001</td>\n",
       "      <td>232.820007</td>\n",
       "      <td>171.139999</td>\n",
       "      <td>129.529999</td>\n",
       "      <td>125.180000</td>\n",
       "      <td>315.549988</td>\n",
       "      <td>137.110001</td>\n",
       "      <td>396.239990</td>\n",
       "      <td>556.640015</td>\n",
       "      <td>...</td>\n",
       "      <td>67.000000</td>\n",
       "      <td>200.139999</td>\n",
       "      <td>60.029999</td>\n",
       "      <td>53.410000</td>\n",
       "      <td>115.809998</td>\n",
       "      <td>131.929993</td>\n",
       "      <td>120.849998</td>\n",
       "      <td>588.520020</td>\n",
       "      <td>61.200001</td>\n",
       "      <td>234.309998</td>\n",
       "    </tr>\n",
       "    <tr>\n",
       "      <th>2021-12-20</th>\n",
       "      <td>150.419998</td>\n",
       "      <td>17.299999</td>\n",
       "      <td>228.389999</td>\n",
       "      <td>169.750000</td>\n",
       "      <td>130.860001</td>\n",
       "      <td>126.010002</td>\n",
       "      <td>316.230011</td>\n",
       "      <td>134.979996</td>\n",
       "      <td>385.779999</td>\n",
       "      <td>549.770020</td>\n",
       "      <td>...</td>\n",
       "      <td>67.120003</td>\n",
       "      <td>196.149994</td>\n",
       "      <td>59.160000</td>\n",
       "      <td>52.590000</td>\n",
       "      <td>114.050003</td>\n",
       "      <td>131.570007</td>\n",
       "      <td>118.889999</td>\n",
       "      <td>570.780029</td>\n",
       "      <td>59.400002</td>\n",
       "      <td>234.259995</td>\n",
       "    </tr>\n",
       "  </tbody>\n",
       "</table>\n",
       "<p>2509 rows × 505 columns</p>\n",
       "</div>"
      ],
      "text/plain": [
       "                     A        AAL         AAP        AAPL        ABBV  \\\n",
       "                 Close      Close       Close       Close       Close   \n",
       "Date                                                                    \n",
       "2012-01-03   23.848188   4.826837   66.431709   12.591938         NaN   \n",
       "2012-01-04   23.658602   4.741989   67.989174   12.659607         NaN   \n",
       "2012-01-05   24.188129   5.156796   68.421799   12.800154         NaN   \n",
       "2012-01-06   24.449619   5.279352   68.739067   12.933964         NaN   \n",
       "2012-01-09   25.090279   5.392481   68.719833   12.913451         NaN   \n",
       "...                ...        ...         ...         ...         ...   \n",
       "2021-12-14  151.880005  16.910000  234.405685  174.330002  127.290001   \n",
       "2021-12-15  154.309998  16.990000  238.139999  179.300003  130.229996   \n",
       "2021-12-16  150.800003  16.520000  239.160004  172.259995  131.779999   \n",
       "2021-12-17  151.419998  16.950001  232.820007  171.139999  129.529999   \n",
       "2021-12-20  150.419998  17.299999  228.389999  169.750000  130.860001   \n",
       "\n",
       "                   ABC        ABMD         ABT         ACN        ADBE  ...  \\\n",
       "                 Close       Close       Close       Close       Close  ...   \n",
       "Date                                                                    ...   \n",
       "2012-01-03   32.449615   18.250000   22.172400   43.720493   28.570000  ...   \n",
       "2012-01-04   32.560436   18.110001   22.086409   43.703983   28.280001  ...   \n",
       "2012-01-05   32.807610   18.270000   22.035582   42.870026   28.480000  ...   \n",
       "2012-01-06   32.892853   18.139999   21.836220   42.795719   28.719999  ...   \n",
       "2012-01-09   32.875797   18.209999   21.832314   42.721413   28.530001  ...   \n",
       "...                ...         ...         ...         ...         ...  ...   \n",
       "2021-12-14  123.300003  311.269989  132.940002  369.730011  614.859985  ...   \n",
       "2021-12-15  123.769997  315.459991  135.559998  375.299988  630.330017  ...   \n",
       "2021-12-16  123.980003  310.000000  136.089996  400.600006  566.090027  ...   \n",
       "2021-12-17  125.180000  315.549988  137.110001  396.239990  556.640015  ...   \n",
       "2021-12-20  126.010002  316.230011  134.979996  385.779999  549.770020  ...   \n",
       "\n",
       "                  XEL        XLNX        XOM       XRAY         XYL  \\\n",
       "                Close       Close      Close      Close       Close   \n",
       "Date                                                                  \n",
       "2012-01-03  19.759584   26.523651  57.094891  33.212666   21.926779   \n",
       "2012-01-04  19.629501   26.245657  57.108166  33.203274   22.650694   \n",
       "2012-01-05  19.716227   26.474594  56.935555  33.231441   22.327982   \n",
       "2012-01-06  19.658407   26.302900  56.510662  33.034290   21.952953   \n",
       "2012-01-09  19.672861   26.875235  56.762959  32.874714   22.040163   \n",
       "...               ...         ...        ...        ...         ...   \n",
       "2021-12-14  67.389999  209.809998  61.540001  53.139999  118.680000   \n",
       "2021-12-15  68.820000  217.729996  61.270000  54.009998  119.750000   \n",
       "2021-12-16  68.949997  199.779999  61.369999  54.160000  118.639999   \n",
       "2021-12-17  67.000000  200.139999  60.029999  53.410000  115.809998   \n",
       "2021-12-20  67.120003  196.149994  59.160000  52.590000  114.050003   \n",
       "\n",
       "                   YUM         ZBH        ZBRA       ZION         ZTS  \n",
       "                 Close       Close       Close      Close       Close  \n",
       "Date                                                                   \n",
       "2012-01-03   34.782356   49.651501   35.720001  14.441826         NaN  \n",
       "2012-01-04   35.019901   48.979530   35.450001  14.760457         NaN  \n",
       "2012-01-05   35.287136   49.559452   35.400002  15.173820         NaN  \n",
       "2012-01-06   35.542492   49.688309   35.110001  15.191044         NaN  \n",
       "2012-01-09   35.405914   50.056503   34.950001  15.397721         NaN  \n",
       "...                ...         ...         ...        ...         ...  \n",
       "2021-12-14  131.990005  123.279999  585.859985  62.270000  228.070007  \n",
       "2021-12-15  132.419998  120.680000  598.190002  62.759998  232.080002  \n",
       "2021-12-16  133.589996  120.470001  592.039978  63.470001  232.809998  \n",
       "2021-12-17  131.929993  120.849998  588.520020  61.200001  234.309998  \n",
       "2021-12-20  131.570007  118.889999  570.780029  59.400002  234.259995  \n",
       "\n",
       "[2509 rows x 505 columns]"
      ]
     },
     "execution_count": 4,
     "metadata": {},
     "output_type": "execute_result"
    }
   ],
   "source": [
    "hist = pd.read_pickle('~/.../SP500_2012_2021.pkl')\n",
    "hist"
   ]
  },
  {
   "cell_type": "code",
   "execution_count": 6,
   "id": "executive-spencer",
   "metadata": {},
   "outputs": [
    {
     "data": {
      "text/html": [
       "<div>\n",
       "<style scoped>\n",
       "    .dataframe tbody tr th:only-of-type {\n",
       "        vertical-align: middle;\n",
       "    }\n",
       "\n",
       "    .dataframe tbody tr th {\n",
       "        vertical-align: top;\n",
       "    }\n",
       "\n",
       "    .dataframe thead tr th {\n",
       "        text-align: left;\n",
       "    }\n",
       "\n",
       "    .dataframe thead tr:last-of-type th {\n",
       "        text-align: right;\n",
       "    }\n",
       "</style>\n",
       "<table border=\"1\" class=\"dataframe\">\n",
       "  <thead>\n",
       "    <tr>\n",
       "      <th></th>\n",
       "      <th>A</th>\n",
       "      <th>AAL</th>\n",
       "      <th>AAP</th>\n",
       "      <th>AAPL</th>\n",
       "      <th>ABC</th>\n",
       "      <th>ABMD</th>\n",
       "      <th>ABT</th>\n",
       "      <th>ACN</th>\n",
       "      <th>ADBE</th>\n",
       "      <th>ADI</th>\n",
       "      <th>...</th>\n",
       "      <th>WYNN</th>\n",
       "      <th>XEL</th>\n",
       "      <th>XLNX</th>\n",
       "      <th>XOM</th>\n",
       "      <th>XRAY</th>\n",
       "      <th>XYL</th>\n",
       "      <th>YUM</th>\n",
       "      <th>ZBH</th>\n",
       "      <th>ZBRA</th>\n",
       "      <th>ZION</th>\n",
       "    </tr>\n",
       "    <tr>\n",
       "      <th></th>\n",
       "      <th>Close</th>\n",
       "      <th>Close</th>\n",
       "      <th>Close</th>\n",
       "      <th>Close</th>\n",
       "      <th>Close</th>\n",
       "      <th>Close</th>\n",
       "      <th>Close</th>\n",
       "      <th>Close</th>\n",
       "      <th>Close</th>\n",
       "      <th>Close</th>\n",
       "      <th>...</th>\n",
       "      <th>Close</th>\n",
       "      <th>Close</th>\n",
       "      <th>Close</th>\n",
       "      <th>Close</th>\n",
       "      <th>Close</th>\n",
       "      <th>Close</th>\n",
       "      <th>Close</th>\n",
       "      <th>Close</th>\n",
       "      <th>Close</th>\n",
       "      <th>Close</th>\n",
       "    </tr>\n",
       "    <tr>\n",
       "      <th>Date</th>\n",
       "      <th></th>\n",
       "      <th></th>\n",
       "      <th></th>\n",
       "      <th></th>\n",
       "      <th></th>\n",
       "      <th></th>\n",
       "      <th></th>\n",
       "      <th></th>\n",
       "      <th></th>\n",
       "      <th></th>\n",
       "      <th></th>\n",
       "      <th></th>\n",
       "      <th></th>\n",
       "      <th></th>\n",
       "      <th></th>\n",
       "      <th></th>\n",
       "      <th></th>\n",
       "      <th></th>\n",
       "      <th></th>\n",
       "      <th></th>\n",
       "      <th></th>\n",
       "    </tr>\n",
       "  </thead>\n",
       "  <tbody>\n",
       "    <tr>\n",
       "      <th>2012-01-03</th>\n",
       "      <td>23.848188</td>\n",
       "      <td>4.826837</td>\n",
       "      <td>66.431709</td>\n",
       "      <td>12.591938</td>\n",
       "      <td>32.449615</td>\n",
       "      <td>18.250000</td>\n",
       "      <td>22.172400</td>\n",
       "      <td>43.720493</td>\n",
       "      <td>28.570000</td>\n",
       "      <td>28.259459</td>\n",
       "      <td>...</td>\n",
       "      <td>85.516457</td>\n",
       "      <td>19.759584</td>\n",
       "      <td>26.523651</td>\n",
       "      <td>57.094891</td>\n",
       "      <td>33.212666</td>\n",
       "      <td>21.926779</td>\n",
       "      <td>34.782356</td>\n",
       "      <td>49.651501</td>\n",
       "      <td>35.720001</td>\n",
       "      <td>14.441826</td>\n",
       "    </tr>\n",
       "    <tr>\n",
       "      <th>2012-01-04</th>\n",
       "      <td>23.658602</td>\n",
       "      <td>4.741989</td>\n",
       "      <td>67.989174</td>\n",
       "      <td>12.659607</td>\n",
       "      <td>32.560436</td>\n",
       "      <td>18.110001</td>\n",
       "      <td>22.086409</td>\n",
       "      <td>43.703983</td>\n",
       "      <td>28.280001</td>\n",
       "      <td>28.220253</td>\n",
       "      <td>...</td>\n",
       "      <td>84.045784</td>\n",
       "      <td>19.629501</td>\n",
       "      <td>26.245657</td>\n",
       "      <td>57.108166</td>\n",
       "      <td>33.203274</td>\n",
       "      <td>22.650694</td>\n",
       "      <td>35.019901</td>\n",
       "      <td>48.979530</td>\n",
       "      <td>35.450001</td>\n",
       "      <td>14.760457</td>\n",
       "    </tr>\n",
       "    <tr>\n",
       "      <th>2012-01-05</th>\n",
       "      <td>24.188129</td>\n",
       "      <td>5.156796</td>\n",
       "      <td>68.421799</td>\n",
       "      <td>12.800154</td>\n",
       "      <td>32.807610</td>\n",
       "      <td>18.270000</td>\n",
       "      <td>22.035582</td>\n",
       "      <td>42.870026</td>\n",
       "      <td>28.480000</td>\n",
       "      <td>28.345745</td>\n",
       "      <td>...</td>\n",
       "      <td>83.167892</td>\n",
       "      <td>19.716227</td>\n",
       "      <td>26.474594</td>\n",
       "      <td>56.935555</td>\n",
       "      <td>33.231441</td>\n",
       "      <td>22.327982</td>\n",
       "      <td>35.287136</td>\n",
       "      <td>49.559452</td>\n",
       "      <td>35.400002</td>\n",
       "      <td>15.173820</td>\n",
       "    </tr>\n",
       "    <tr>\n",
       "      <th>2012-01-06</th>\n",
       "      <td>24.449619</td>\n",
       "      <td>5.279352</td>\n",
       "      <td>68.739067</td>\n",
       "      <td>12.933964</td>\n",
       "      <td>32.892853</td>\n",
       "      <td>18.139999</td>\n",
       "      <td>21.836220</td>\n",
       "      <td>42.795719</td>\n",
       "      <td>28.719999</td>\n",
       "      <td>28.157501</td>\n",
       "      <td>...</td>\n",
       "      <td>80.241577</td>\n",
       "      <td>19.658407</td>\n",
       "      <td>26.302900</td>\n",
       "      <td>56.510662</td>\n",
       "      <td>33.034290</td>\n",
       "      <td>21.952953</td>\n",
       "      <td>35.542492</td>\n",
       "      <td>49.688309</td>\n",
       "      <td>35.110001</td>\n",
       "      <td>15.191044</td>\n",
       "    </tr>\n",
       "    <tr>\n",
       "      <th>2012-01-09</th>\n",
       "      <td>25.090279</td>\n",
       "      <td>5.392481</td>\n",
       "      <td>68.719833</td>\n",
       "      <td>12.913451</td>\n",
       "      <td>32.875797</td>\n",
       "      <td>18.209999</td>\n",
       "      <td>21.832314</td>\n",
       "      <td>42.721413</td>\n",
       "      <td>28.530001</td>\n",
       "      <td>28.706539</td>\n",
       "      <td>...</td>\n",
       "      <td>80.016441</td>\n",
       "      <td>19.672861</td>\n",
       "      <td>26.875235</td>\n",
       "      <td>56.762959</td>\n",
       "      <td>32.874714</td>\n",
       "      <td>22.040163</td>\n",
       "      <td>35.405914</td>\n",
       "      <td>50.056503</td>\n",
       "      <td>34.950001</td>\n",
       "      <td>15.397721</td>\n",
       "    </tr>\n",
       "    <tr>\n",
       "      <th>...</th>\n",
       "      <td>...</td>\n",
       "      <td>...</td>\n",
       "      <td>...</td>\n",
       "      <td>...</td>\n",
       "      <td>...</td>\n",
       "      <td>...</td>\n",
       "      <td>...</td>\n",
       "      <td>...</td>\n",
       "      <td>...</td>\n",
       "      <td>...</td>\n",
       "      <td>...</td>\n",
       "      <td>...</td>\n",
       "      <td>...</td>\n",
       "      <td>...</td>\n",
       "      <td>...</td>\n",
       "      <td>...</td>\n",
       "      <td>...</td>\n",
       "      <td>...</td>\n",
       "      <td>...</td>\n",
       "      <td>...</td>\n",
       "      <td>...</td>\n",
       "    </tr>\n",
       "    <tr>\n",
       "      <th>2021-12-14</th>\n",
       "      <td>151.880005</td>\n",
       "      <td>16.910000</td>\n",
       "      <td>234.405685</td>\n",
       "      <td>174.330002</td>\n",
       "      <td>123.300003</td>\n",
       "      <td>311.269989</td>\n",
       "      <td>132.940002</td>\n",
       "      <td>369.730011</td>\n",
       "      <td>614.859985</td>\n",
       "      <td>176.279999</td>\n",
       "      <td>...</td>\n",
       "      <td>83.320000</td>\n",
       "      <td>67.389999</td>\n",
       "      <td>209.809998</td>\n",
       "      <td>61.540001</td>\n",
       "      <td>53.139999</td>\n",
       "      <td>118.680000</td>\n",
       "      <td>131.990005</td>\n",
       "      <td>123.279999</td>\n",
       "      <td>585.859985</td>\n",
       "      <td>62.270000</td>\n",
       "    </tr>\n",
       "    <tr>\n",
       "      <th>2021-12-15</th>\n",
       "      <td>154.309998</td>\n",
       "      <td>16.990000</td>\n",
       "      <td>238.139999</td>\n",
       "      <td>179.300003</td>\n",
       "      <td>123.769997</td>\n",
       "      <td>315.459991</td>\n",
       "      <td>135.559998</td>\n",
       "      <td>375.299988</td>\n",
       "      <td>630.330017</td>\n",
       "      <td>179.529999</td>\n",
       "      <td>...</td>\n",
       "      <td>82.709999</td>\n",
       "      <td>68.820000</td>\n",
       "      <td>217.729996</td>\n",
       "      <td>61.270000</td>\n",
       "      <td>54.009998</td>\n",
       "      <td>119.750000</td>\n",
       "      <td>132.419998</td>\n",
       "      <td>120.680000</td>\n",
       "      <td>598.190002</td>\n",
       "      <td>62.759998</td>\n",
       "    </tr>\n",
       "    <tr>\n",
       "      <th>2021-12-16</th>\n",
       "      <td>150.800003</td>\n",
       "      <td>16.520000</td>\n",
       "      <td>239.160004</td>\n",
       "      <td>172.259995</td>\n",
       "      <td>123.980003</td>\n",
       "      <td>310.000000</td>\n",
       "      <td>136.089996</td>\n",
       "      <td>400.600006</td>\n",
       "      <td>566.090027</td>\n",
       "      <td>172.600006</td>\n",
       "      <td>...</td>\n",
       "      <td>80.559998</td>\n",
       "      <td>68.949997</td>\n",
       "      <td>199.779999</td>\n",
       "      <td>61.369999</td>\n",
       "      <td>54.160000</td>\n",
       "      <td>118.639999</td>\n",
       "      <td>133.589996</td>\n",
       "      <td>120.470001</td>\n",
       "      <td>592.039978</td>\n",
       "      <td>63.470001</td>\n",
       "    </tr>\n",
       "    <tr>\n",
       "      <th>2021-12-17</th>\n",
       "      <td>151.419998</td>\n",
       "      <td>16.950001</td>\n",
       "      <td>232.820007</td>\n",
       "      <td>171.139999</td>\n",
       "      <td>125.180000</td>\n",
       "      <td>315.549988</td>\n",
       "      <td>137.110001</td>\n",
       "      <td>396.239990</td>\n",
       "      <td>556.640015</td>\n",
       "      <td>170.110001</td>\n",
       "      <td>...</td>\n",
       "      <td>82.269997</td>\n",
       "      <td>67.000000</td>\n",
       "      <td>200.139999</td>\n",
       "      <td>60.029999</td>\n",
       "      <td>53.410000</td>\n",
       "      <td>115.809998</td>\n",
       "      <td>131.929993</td>\n",
       "      <td>120.849998</td>\n",
       "      <td>588.520020</td>\n",
       "      <td>61.200001</td>\n",
       "    </tr>\n",
       "    <tr>\n",
       "      <th>2021-12-20</th>\n",
       "      <td>150.419998</td>\n",
       "      <td>17.299999</td>\n",
       "      <td>228.389999</td>\n",
       "      <td>169.750000</td>\n",
       "      <td>126.010002</td>\n",
       "      <td>316.230011</td>\n",
       "      <td>134.979996</td>\n",
       "      <td>385.779999</td>\n",
       "      <td>549.770020</td>\n",
       "      <td>168.320007</td>\n",
       "      <td>...</td>\n",
       "      <td>80.790001</td>\n",
       "      <td>67.120003</td>\n",
       "      <td>196.149994</td>\n",
       "      <td>59.160000</td>\n",
       "      <td>52.590000</td>\n",
       "      <td>114.050003</td>\n",
       "      <td>131.570007</td>\n",
       "      <td>118.889999</td>\n",
       "      <td>570.780029</td>\n",
       "      <td>59.400002</td>\n",
       "    </tr>\n",
       "  </tbody>\n",
       "</table>\n",
       "<p>2509 rows × 456 columns</p>\n",
       "</div>"
      ],
      "text/plain": [
       "                     A        AAL         AAP        AAPL         ABC  \\\n",
       "                 Close      Close       Close       Close       Close   \n",
       "Date                                                                    \n",
       "2012-01-03   23.848188   4.826837   66.431709   12.591938   32.449615   \n",
       "2012-01-04   23.658602   4.741989   67.989174   12.659607   32.560436   \n",
       "2012-01-05   24.188129   5.156796   68.421799   12.800154   32.807610   \n",
       "2012-01-06   24.449619   5.279352   68.739067   12.933964   32.892853   \n",
       "2012-01-09   25.090279   5.392481   68.719833   12.913451   32.875797   \n",
       "...                ...        ...         ...         ...         ...   \n",
       "2021-12-14  151.880005  16.910000  234.405685  174.330002  123.300003   \n",
       "2021-12-15  154.309998  16.990000  238.139999  179.300003  123.769997   \n",
       "2021-12-16  150.800003  16.520000  239.160004  172.259995  123.980003   \n",
       "2021-12-17  151.419998  16.950001  232.820007  171.139999  125.180000   \n",
       "2021-12-20  150.419998  17.299999  228.389999  169.750000  126.010002   \n",
       "\n",
       "                  ABMD         ABT         ACN        ADBE         ADI  ...  \\\n",
       "                 Close       Close       Close       Close       Close  ...   \n",
       "Date                                                                    ...   \n",
       "2012-01-03   18.250000   22.172400   43.720493   28.570000   28.259459  ...   \n",
       "2012-01-04   18.110001   22.086409   43.703983   28.280001   28.220253  ...   \n",
       "2012-01-05   18.270000   22.035582   42.870026   28.480000   28.345745  ...   \n",
       "2012-01-06   18.139999   21.836220   42.795719   28.719999   28.157501  ...   \n",
       "2012-01-09   18.209999   21.832314   42.721413   28.530001   28.706539  ...   \n",
       "...                ...         ...         ...         ...         ...  ...   \n",
       "2021-12-14  311.269989  132.940002  369.730011  614.859985  176.279999  ...   \n",
       "2021-12-15  315.459991  135.559998  375.299988  630.330017  179.529999  ...   \n",
       "2021-12-16  310.000000  136.089996  400.600006  566.090027  172.600006  ...   \n",
       "2021-12-17  315.549988  137.110001  396.239990  556.640015  170.110001  ...   \n",
       "2021-12-20  316.230011  134.979996  385.779999  549.770020  168.320007  ...   \n",
       "\n",
       "                 WYNN        XEL        XLNX        XOM       XRAY  \\\n",
       "                Close      Close       Close      Close      Close   \n",
       "Date                                                                 \n",
       "2012-01-03  85.516457  19.759584   26.523651  57.094891  33.212666   \n",
       "2012-01-04  84.045784  19.629501   26.245657  57.108166  33.203274   \n",
       "2012-01-05  83.167892  19.716227   26.474594  56.935555  33.231441   \n",
       "2012-01-06  80.241577  19.658407   26.302900  56.510662  33.034290   \n",
       "2012-01-09  80.016441  19.672861   26.875235  56.762959  32.874714   \n",
       "...               ...        ...         ...        ...        ...   \n",
       "2021-12-14  83.320000  67.389999  209.809998  61.540001  53.139999   \n",
       "2021-12-15  82.709999  68.820000  217.729996  61.270000  54.009998   \n",
       "2021-12-16  80.559998  68.949997  199.779999  61.369999  54.160000   \n",
       "2021-12-17  82.269997  67.000000  200.139999  60.029999  53.410000   \n",
       "2021-12-20  80.790001  67.120003  196.149994  59.160000  52.590000   \n",
       "\n",
       "                   XYL         YUM         ZBH        ZBRA       ZION  \n",
       "                 Close       Close       Close       Close      Close  \n",
       "Date                                                                   \n",
       "2012-01-03   21.926779   34.782356   49.651501   35.720001  14.441826  \n",
       "2012-01-04   22.650694   35.019901   48.979530   35.450001  14.760457  \n",
       "2012-01-05   22.327982   35.287136   49.559452   35.400002  15.173820  \n",
       "2012-01-06   21.952953   35.542492   49.688309   35.110001  15.191044  \n",
       "2012-01-09   22.040163   35.405914   50.056503   34.950001  15.397721  \n",
       "...                ...         ...         ...         ...        ...  \n",
       "2021-12-14  118.680000  131.990005  123.279999  585.859985  62.270000  \n",
       "2021-12-15  119.750000  132.419998  120.680000  598.190002  62.759998  \n",
       "2021-12-16  118.639999  133.589996  120.470001  592.039978  63.470001  \n",
       "2021-12-17  115.809998  131.929993  120.849998  588.520020  61.200001  \n",
       "2021-12-20  114.050003  131.570007  118.889999  570.780029  59.400002  \n",
       "\n",
       "[2509 rows x 456 columns]"
      ]
     },
     "execution_count": 6,
     "metadata": {},
     "output_type": "execute_result"
    }
   ],
   "source": [
    "hist_complete = hist[[k for k, v in dict(pd.isna(hist).sum(0) == 0).items() if v == True]]\n",
    "hist_complete"
   ]
  },
  {
   "cell_type": "code",
   "execution_count": 7,
   "id": "charming-instrumentation",
   "metadata": {},
   "outputs": [
    {
     "data": {
      "text/plain": [
       "(253, 456)"
      ]
     },
     "execution_count": 7,
     "metadata": {},
     "output_type": "execute_result"
    }
   ],
   "source": [
    "m = 252 + 1\n",
    "n = hist_complete.shape[1]\n",
    "m, n"
   ]
  },
  {
   "cell_type": "code",
   "execution_count": 8,
   "id": "national-stroke",
   "metadata": {},
   "outputs": [],
   "source": [
    "def get_empirical_return(df, col, s_idx, e_idx):\n",
    "    price = df[col].iloc[s_idx:e_idx].values\n",
    "    empirical_returns = ((price[1:] - price[:-1])/price[:-1]).cumsum()\n",
    "    return empirical_returns\n",
    "    \n",
    "def batch(df, m, n):\n",
    "    e_idxs = np.random.randint(m, df.shape[0], n)\n",
    "    s_idxs = e_idxs - m\n",
    "    batch_ = np.zeros((n, m - 1), dtype=np.float32)\n",
    "    for idx, (col, s_idx, e_idx) in enumerate(zip(df.columns, s_idxs, e_idxs)):\n",
    "        batch_[idx] = get_empirical_return(df, col, s_idx, e_idx)\n",
    "    return batch_"
   ]
  },
  {
   "cell_type": "code",
   "execution_count": 9,
   "id": "elementary-range",
   "metadata": {
    "tags": []
   },
   "outputs": [
    {
     "data": {
      "application/vnd.jupyter.widget-view+json": {
       "model_id": "c5b3c60b2f674da08df3739ee92177f1",
       "version_major": 2,
       "version_minor": 0
      },
      "text/plain": [
       "  0%|          | 0/500 [00:00<?, ?it/s]"
      ]
     },
     "metadata": {},
     "output_type": "display_data"
    }
   ],
   "source": [
    "from tqdm.notebook import tqdm\n",
    "from sklearn.decomposition import IncrementalPCA\n",
    "ipca = IncrementalPCA(n_components=3, batch_size=n)\n",
    "epochs = 500\n",
    "pbar = tqdm(total=epochs)\n",
    "for i in range(epochs):\n",
    "    batchX = batch(hist_complete, m, n)\n",
    "    ipca.partial_fit(batchX)\n",
    "    pbar.update(1)"
   ]
  },
  {
   "cell_type": "code",
   "execution_count": 10,
   "id": "saved-confidence",
   "metadata": {},
   "outputs": [],
   "source": [
    "price = hist_complete.iloc[-m:].T.values\n",
    "empirical_returns = ((price[:, 1:] - price[:, :-1])/price[:, :-1]).cumsum(1)\n",
    "L2s = ((empirical_returns - ipca.inverse_transform(ipca.transform(empirical_returns)))**2).sum(1)"
   ]
  },
  {
   "cell_type": "code",
   "execution_count": 11,
   "id": "heavy-billion",
   "metadata": {},
   "outputs": [],
   "source": [
    "p_size = 10\n",
    "\n",
    "MAX_DIFF_PORTFOLIO = [c[0] for c in hist_complete.columns[np.argsort(L2s)[::-1][:p_size]]]\n",
    "MIN_DIFF_PORTFOLIO = [c[0] for c in hist_complete.columns[np.argsort(L2s)[:p_size]]]"
   ]
  },
  {
   "cell_type": "code",
   "execution_count": 12,
   "id": "individual-processing",
   "metadata": {},
   "outputs": [
    {
     "data": {
      "text/plain": [
       "['VIAC', 'DISCA', 'PENN', 'DISCK', 'APA', 'CCL', 'GNRC', 'MRO', 'F', 'OXY']"
      ]
     },
     "execution_count": 12,
     "metadata": {},
     "output_type": "execute_result"
    }
   ],
   "source": [
    "MAX_DIFF_PORTFOLIO"
   ]
  },
  {
   "cell_type": "code",
   "execution_count": 21,
   "id": "pleased-myanmar",
   "metadata": {},
   "outputs": [
    {
     "data": {
      "text/plain": [
       "['PPL', 'MSI', 'VZ', 'NDAQ', 'KMB', 'AVB', 'HSY', 'EQR', 'TMUS', 'PEAK']"
      ]
     },
     "execution_count": 21,
     "metadata": {},
     "output_type": "execute_result"
    }
   ],
   "source": [
    "MIN_DIFF_PORTFOLIO"
   ]
  },
  {
   "cell_type": "code",
   "execution_count": 24,
   "id": "explicit-estonia",
   "metadata": {},
   "outputs": [
    {
     "data": {
      "text/plain": [
       "[<matplotlib.lines.Line2D at 0x7f9e9962ab80>]"
      ]
     },
     "execution_count": 24,
     "metadata": {},
     "output_type": "execute_result"
    },
    {
     "data": {
      "image/png": "[encoded data removed]",
      "text/plain": [
       "<Figure size 432x288 with 1 Axes>"
      ]
     },
     "metadata": {
      "needs_background": "light"
     },
     "output_type": "display_data"
    }
   ],
   "source": [
    "col = np.random.choice(hist_complete.shape[1])\n",
    "plt.plot(empirical_returns[col])\n",
    "plt.plot(ipca.inverse_transform(ipca.transform(empirical_returns[col][None, :]))[0])"
   ]
  },
  {
   "cell_type": "code",
   "execution_count": 25,
   "id": "federal-description",
   "metadata": {},
   "outputs": [],
   "source": [
    "\"\"\"\n",
    "Auto-Encoding Variational Bayes Network Architecture\n",
    "\"\"\"\n",
    "\n",
    "import torch\n",
    "import torch.nn as nn\n",
    "\n",
    "\n",
    "# VAE with one stochastic layer z\n",
    "class VAE(nn.Module):\n",
    "\n",
    "    def __init__(self, args, d, h_num, scaled=True):\n",
    "        super(VAE, self).__init__()\n",
    "        self.dim = d\n",
    "        self.Nz = args.Nz\n",
    "        self.hid_num = h_num\n",
    "        self.output_type = args.decoder_type\n",
    "        self.scaled_mean = scaled\n",
    "        self.fc1 = nn.Linear(d, h_num)\n",
    "        self.fc2_mu = nn.Linear(h_num, args.Nz)\n",
    "        self.fc2_sigma = nn.Linear(h_num, args.Nz)\n",
    "        self.fc3 = nn.Linear(args.Nz, h_num)\n",
    "        if args.decoder_type == 'gaussian':\n",
    "            self.fc4_mu = nn.Linear(h_num, d)\n",
    "            self.fc4_sigma = nn.Linear(h_num, d)\n",
    "        else:\n",
    "            self.fc4 = nn.Linear(h_num, d)\n",
    "\n",
    "    def forward(self, x):\n",
    "        x = x.view(-1, self.dim)\n",
    "        x = torch.relu(self.fc1(x))\n",
    "        mu_z = self.fc2_mu(x)\n",
    "        log_sigma_z = self.fc2_sigma(x)\n",
    "        eps = torch.randn_like(mu_z)\n",
    "        x = mu_z + torch.exp(log_sigma_z) * eps\n",
    "        x = torch.relu(self.fc3(x))\n",
    "        if self.output_type == 'gaussian':\n",
    "            if self.scaled_mean:\n",
    "                mu = torch.sigmoid(self.fc4_mu(x))\n",
    "            else:\n",
    "                mu = self.fc4_mu(x)\n",
    "            log_sigma = self.fc4_sigma(x)\n",
    "            return mu, mu_z, log_sigma, log_sigma_z\n",
    "        else:\n",
    "            x = self.fc4(x)\n",
    "            return x, mu_z, '_', log_sigma_z"
   ]
  },
  {
   "cell_type": "code",
   "execution_count": 26,
   "id": "formed-cursor",
   "metadata": {},
   "outputs": [],
   "source": [
    "class SP500Dataset(torch.utils.data.Dataset):\n",
    "    \"\"\"Face Landmarks dataset.\"\"\"\n",
    "\n",
    "    def __init__(self, df, m):\n",
    "        \"\"\"\n",
    "        Args:\n",
    "            csv_file (string): Path to the csv file with annotations.\n",
    "            root_dir (string): Directory with all the images.\n",
    "            transform (callable, optional): Optional transform to be applied\n",
    "                on a sample.\n",
    "        \"\"\"\n",
    "        self.df = df\n",
    "        self.m = m\n",
    "        self.n = df.shape[1]\n",
    "\n",
    "    def __len__(self):\n",
    "        return (self.df.shape[0] - self.m + 1) * self.df.shape[1]\n",
    "\n",
    "    def __getitem__(self, idx):\n",
    "        e_idx = np.random.randint(self.m, self.df.shape[0])\n",
    "        s_idx = e_idx - self.m\n",
    "        col = np.random.choice(self.df.columns)\n",
    "        return get_empirical_return(self.df, col, s_idx, e_idx)"
   ]
  },
  {
   "cell_type": "code",
   "execution_count": 27,
   "id": "bizarre-georgia",
   "metadata": {},
   "outputs": [],
   "source": [
    "import math\n",
    "\n",
    "def test_function(net, test_n, out_type, testloader, device='cpu'):\n",
    "    elbo_total = 0.0\n",
    "    pbar = tqdm(total=len(testloader))\n",
    "    for i, data in enumerate(testloader, 0):\n",
    "        pbar.update(1)\n",
    "        with torch.no_grad():\n",
    "            test = data.to(device)\n",
    "            output = net(test.float())\n",
    "\n",
    "            # the negative KL term\n",
    "            negative_kl = (torch.ones_like(output[3]) + 2 * output[3] - output[1] * output[1] - torch.exp(\n",
    "                2 * output[3])).sum(1) / 2\n",
    "\n",
    "            # the log conditional prob term\n",
    "            if out_type == 'gaussian':\n",
    "                test_minus_mu = test - output[0]\n",
    "                log_p_x_given_z = -torch.ones_like(test).sum(1) * np.log(2 * math.pi) / 2 - output[2].sum(1) / 2 - (\n",
    "                        test_minus_mu * test_minus_mu / (2 * torch.exp(output[2]))).sum(1)\n",
    "            else:\n",
    "                log_p_x_given_z = torch.sum(output[0] * test - torch.log(1 + torch.exp(output[0])), 1)\n",
    "\n",
    "            # sum of the variational lower bounds\n",
    "            elbo = negative_kl.sum() + log_p_x_given_z.sum()\n",
    "            elbo_total += elbo.item()\n",
    "    return elbo_total / test_n"
   ]
  },
  {
   "cell_type": "code",
   "execution_count": 28,
   "id": "satisfied-tactics",
   "metadata": {},
   "outputs": [],
   "source": [
    "from sklearn.model_selection import train_test_split\n",
    "hist_complete_train, hist_complete_test = train_test_split(hist_complete, shuffle=False, test_size=.3)"
   ]
  },
  {
   "cell_type": "code",
   "execution_count": 29,
   "id": "biological-cocktail",
   "metadata": {},
   "outputs": [],
   "source": [
    "dim = m\n",
    "hid_num = 100\n",
    "train_num = (hist_complete_train.shape[0] - m + 1) * hist_complete_train.shape[1]\n",
    "test_num = (hist_complete_test.shape[0] - m + 1) * hist_complete_test.shape[1]"
   ]
  },
  {
   "cell_type": "code",
   "execution_count": 30,
   "id": "reverse-filing",
   "metadata": {},
   "outputs": [],
   "source": [
    "from collections import namedtuple\n",
    "vae_args = namedtuple('vae_args', ['decoder_type', 'input_dim', 'hid_num', 'Nz', 'epochs', 'batch_size'])\n",
    "VAE_ARGS = vae_args('gaussian', m-1, 100, 3, 100, 128)"
   ]
  },
  {
   "cell_type": "code",
   "execution_count": 31,
   "id": "israeli-norwegian",
   "metadata": {},
   "outputs": [
    {
     "name": "stdout",
     "output_type": "stream",
     "text": [
      "cpu\n"
     ]
    }
   ],
   "source": [
    "train_loader = torch.utils.data.DataLoader(SP500Dataset(hist_complete_train, m), batch_size=VAE_ARGS.batch_size, shuffle=False, num_workers=2)\n",
    "test_loader = torch.utils.data.DataLoader(SP500Dataset(hist_complete_test, m), batch_size=VAE_ARGS.batch_size, shuffle=False, num_workers=2)\n",
    "test_set = SP500Dataset(hist_complete_test, m)\n",
    "device = torch.device(\"cuda:0\" if torch.cuda.is_available() else \"cpu\")\n",
    "print(device)\n",
    "net = VAE(VAE_ARGS, d=VAE_ARGS.input_dim, h_num=VAE_ARGS.hid_num)\n",
    "net.to(device)\n",
    "optimizer = torch.optim.Adagrad(net.parameters())"
   ]
  },
  {
   "cell_type": "code",
   "execution_count": null,
   "id": "protected-testimony",
   "metadata": {},
   "outputs": [
    {
     "data": {
      "application/vnd.jupyter.widget-view+json": {
       "model_id": "329bb98b794b4edfa560ab52ae240c63",
       "version_major": 2,
       "version_minor": 0
      },
      "text/plain": [
       "  0%|          | 0/685824 [00:00<?, ?it/s]"
      ]
     },
     "metadata": {},
     "output_type": "display_data"
    },
    {
     "name": "stdout",
     "output_type": "stream",
     "text": [
      "[1] loss: 173.199\n"
     ]
    },
    {
     "data": {
      "application/vnd.jupyter.widget-view+json": {
       "model_id": "2af03620c8cf4418a9e4d8ca38584527",
       "version_major": 2,
       "version_minor": 0
      },
      "text/plain": [
       "  0%|          | 0/685824 [00:00<?, ?it/s]"
      ]
     },
     "metadata": {},
     "output_type": "display_data"
    },
    {
     "name": "stdout",
     "output_type": "stream",
     "text": [
      "[2] loss: -342.551\n"
     ]
    },
    {
     "data": {
      "application/vnd.jupyter.widget-view+json": {
       "model_id": "2acdf6711f4949d2b11a2f3850fee867",
       "version_major": 2,
       "version_minor": 0
      },
      "text/plain": [
       "  0%|          | 0/685824 [00:00<?, ?it/s]"
      ]
     },
     "metadata": {},
     "output_type": "display_data"
    },
    {
     "name": "stdout",
     "output_type": "stream",
     "text": [
      "[3] loss: -362.957\n"
     ]
    },
    {
     "data": {
      "application/vnd.jupyter.widget-view+json": {
       "model_id": "a1f9804077844b1993a754a8f6c99eb0",
       "version_major": 2,
       "version_minor": 0
      },
      "text/plain": [
       "  0%|          | 0/685824 [00:00<?, ?it/s]"
      ]
     },
     "metadata": {},
     "output_type": "display_data"
    },
    {
     "name": "stdout",
     "output_type": "stream",
     "text": [
      "[4] loss: -375.974\n"
     ]
    },
    {
     "data": {
      "application/vnd.jupyter.widget-view+json": {
       "model_id": "d105512a23c94774b4e37e9d23e26025",
       "version_major": 2,
       "version_minor": 0
      },
      "text/plain": [
       "  0%|          | 0/685824 [00:00<?, ?it/s]"
      ]
     },
     "metadata": {},
     "output_type": "display_data"
    },
    {
     "name": "stdout",
     "output_type": "stream",
     "text": [
      "[5] loss: -381.619\n"
     ]
    },
    {
     "data": {
      "application/vnd.jupyter.widget-view+json": {
       "model_id": "24d6df84cda948eabb81107d24f8c136",
       "version_major": 2,
       "version_minor": 0
      },
      "text/plain": [
       "  0%|          | 0/685824 [00:00<?, ?it/s]"
      ]
     },
     "metadata": {},
     "output_type": "display_data"
    },
    {
     "name": "stdout",
     "output_type": "stream",
     "text": [
      "[6] loss: -384.976\n"
     ]
    },
    {
     "data": {
      "application/vnd.jupyter.widget-view+json": {
       "model_id": "ea7b20a591c94544a776bbd6df6d1120",
       "version_major": 2,
       "version_minor": 0
      },
      "text/plain": [
       "  0%|          | 0/685824 [00:00<?, ?it/s]"
      ]
     },
     "metadata": {},
     "output_type": "display_data"
    }
   ],
   "source": [
    "import time\n",
    "# train the model\n",
    "start = time.time()\n",
    "for epoch in range(20):\n",
    "    # test\n",
    "    if (epoch + 1) % 10 == 0:\n",
    "        test_elbo = test_function(net, test_num, VAE_ARGS.decoder_type,\n",
    "                                  test_loader, device=device)\n",
    "        print('test average ELBO=', test_elbo)\n",
    "\n",
    "    # iterations\n",
    "    running_loss = 0.0\n",
    "    with tqdm(total=len(train_loader.dataset)) as progress_bar:\n",
    "        for i, data in enumerate(train_loader, 0):\n",
    "            train = data.to(device)\n",
    "            optimizer.zero_grad()\n",
    "\n",
    "            output = net(train.float())\n",
    "\n",
    "            # the negative KL term\n",
    "            negative_KL = (torch.ones_like(output[1]) + 2 * output[3] - output[1] * output[1] - torch.exp(\n",
    "                2 * output[3])).sum(1) / 2\n",
    "\n",
    "            # the log conditional prob term\n",
    "            if VAE_ARGS.decoder_type == 'gaussian':\n",
    "                train_minus_mu = train - output[0]\n",
    "                log_p_x_given_z = -torch.ones_like(train).sum(1) * np.log(2 * math.pi) / 2 \\\n",
    "                                  - output[2].sum(1) / 2 - (\n",
    "                                          train_minus_mu * train_minus_mu / (2 * torch.exp(output[2]))).sum(1)\n",
    "            else:\n",
    "                log_p_x_given_z = torch.sum(output[0] * train - torch.log(1 + torch.exp(output[0])), 1)\n",
    "\n",
    "            # update parameters\n",
    "            loss = -negative_KL.mean() - log_p_x_given_z.mean()\n",
    "            loss.backward()\n",
    "            optimizer.step()\n",
    "            running_loss -= negative_KL.sum().item()\n",
    "            running_loss -= log_p_x_given_z.sum().item()\n",
    "\n",
    "            # progress bar\n",
    "            progress_bar.set_postfix(loss=loss.mean().item())\n",
    "            progress_bar.update(data.size(0))\n",
    "\n",
    "    print('[%d] loss: %.3f' % (epoch + 1, running_loss / train_num))\n"
   ]
  },
  {
   "cell_type": "code",
   "execution_count": 114,
   "id": "requested-mileage",
   "metadata": {},
   "outputs": [],
   "source": [
    "for i, data in enumerate(test_loader, 0):\n",
    "    test = data.to(device)\n",
    "    break\n",
    "with torch.no_grad():\n",
    "    output = net(test.float())"
   ]
  },
  {
   "cell_type": "code",
   "execution_count": 117,
   "id": "dressed-chinese",
   "metadata": {},
   "outputs": [
    {
     "data": {
      "text/plain": [
       "[torch.Size([128, 252]),\n",
       " torch.Size([128, 2]),\n",
       " torch.Size([128, 252]),\n",
       " torch.Size([128, 2])]"
      ]
     },
     "execution_count": 117,
     "metadata": {},
     "output_type": "execute_result"
    }
   ],
   "source": [
    "[o.shape for o in output]"
   ]
  },
  {
   "cell_type": "code",
   "execution_count": 123,
   "id": "naked-skill",
   "metadata": {},
   "outputs": [
    {
     "data": {
      "text/plain": [
       "tensor([[ 0.0312,  0.0136,  0.0607,  ...,  0.0639,  0.0335,  0.0421],\n",
       "        [ 0.0321,  0.0154,  0.0634,  ...,  0.1301,  0.0996,  0.1086],\n",
       "        [ 0.0344,  0.0203,  0.0707,  ...,  0.2054,  0.1748,  0.1849],\n",
       "        ...,\n",
       "        [ 0.0310,  0.0131,  0.0600,  ...,  0.2521,  0.2238,  0.2321],\n",
       "        [ 0.0309,  0.0130,  0.0598,  ...,  0.1768,  0.1471,  0.1571],\n",
       "        [ 0.0309,  0.0129,  0.0597,  ..., -0.0435, -0.0735, -0.0658]],\n",
       "       dtype=torch.float64)"
      ]
     },
     "execution_count": 123,
     "metadata": {},
     "output_type": "execute_result"
    }
   ],
   "source": [
    "output[0] - test[0]"
   ]
  },
  {
   "cell_type": "code",
   "execution_count": 130,
   "id": "affecting-glance",
   "metadata": {},
   "outputs": [
    {
     "data": {
      "text/plain": [
       "[<matplotlib.lines.Line2D at 0x7ff30679c3d0>]"
      ]
     },
     "execution_count": 130,
     "metadata": {},
     "output_type": "execute_result"
    },
    {
     "data": {
      "image/png": "[encoded data removed]",
      "text/plain": [
       "<Figure size 432x288 with 1 Axes>"
      ]
     },
     "metadata": {
      "needs_background": "light"
     },
     "output_type": "display_data"
    }
   ],
   "source": [
    "plt.plot((output[0] - test[0])[0].numpy())"
   ]
  },
  {
   "cell_type": "code",
   "execution_count": 184,
   "id": "fluid-shade",
   "metadata": {},
   "outputs": [
    {
     "data": {
      "text/plain": [
       "[<matplotlib.lines.Line2D at 0x7ff3053e1af0>]"
      ]
     },
     "execution_count": 184,
     "metadata": {},
     "output_type": "execute_result"
    },
    {
     "data": {
      "image/png": "[encoded data removed]",
      "text/plain": [
       "<Figure size 432x288 with 1 Axes>"
      ]
     },
     "metadata": {
      "needs_background": "light"
     },
     "output_type": "display_data"
    }
   ],
   "source": [
    "idx = np.random.randint(test.shape[0])\n",
    "plt.plot(test[idx].numpy())\n",
    "plt.plot(output[0][idx].numpy())"
   ]
  },
  {
   "cell_type": "code",
   "execution_count": null,
   "id": "aerial-removal",
   "metadata": {},
   "outputs": [],
   "source": []
  }
 ],
 "metadata": {
  "kernelspec": {
   "display_name": "Python 3",
   "language": "python",
   "name": "python3"
  },
  "language_info": {
   "codemirror_mode": {
    "name": "ipython",
    "version": 3
   },
   "file_extension": ".py",
   "mimetype": "text/x-python",
   "name": "python",
   "nbconvert_exporter": "python",
   "pygments_lexer": "ipython3",
   "version": "3.8.5"
  }
 },
 "nbformat": 4,
 "nbformat_minor": 5
}
